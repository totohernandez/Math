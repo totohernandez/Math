{
 "cells": [
  {
   "cell_type": "markdown",
   "metadata": {},
   "source": [
    "# Skydiving Friction\n",
    "\n",
    "$$ \\vec{F} = m \\vec{a} = m \\begin{bmatrix} dv_x /dt \\\\ dv_y /dt \\end{bmatrix} $$\n",
    "\n",
    "## Two Forces \n",
    "\n",
    "Gravity:\n",
    "\n",
    "$$ \\vec{F}_g = -m\\vec{g} = -m \\begin{bmatrix} 0 \\\\ g \\\\ \\end{bmatrix}$$\n",
    "\n",
    "Friction: \n",
    "\n",
    "$$ \\vec{F}_f = -b |\\vec{v}| \\vec{v} = -b \\sqrt{v_x^2 + v_y^2} \\begin{bmatrix} v_x \\\\ v_y \\\\ \\end{bmatrix} $$\n",
    "\n",
    "$ F = ma $\n",
    "\n",
    "$$ m \\begin{bmatrix} dv_x /dt \\\\ dv_y /dt \\end{bmatrix} = -m \\begin{bmatrix} 0 \\\\ g \\\\ \\end{bmatrix} -b \\sqrt{v_x^2 + v_y^2} \\begin{bmatrix} v_x \\\\ v_y \\\\ \\end{bmatrix}  $$\n",
    "\n",
    "## ODEs\n",
    "\n",
    "$$ \\frac{dv_x}{dt} = - \\frac{b}{m} \\sqrt{v_x^2 + v_y^2} * v_x $$\n",
    "$$ \\frac{dv_y}{dt} = - g - \\frac{b}{m} \\sqrt{v_x^2 + v_y^2} * v_y $$\n",
    "\n",
    "$$ \\vec{S} = (v_x, v_y) $$\n",
    "\n",
    "Define function that takes $t$ and $\\vec{S}$ and returns $d\\vec{S}/dt$"
   ]
  },
  {
   "cell_type": "code",
   "execution_count": 4,
   "metadata": {},
   "outputs": [
    {
     "ename": "ModuleNotFoundError",
     "evalue": "No module named 'scipy'",
     "output_type": "error",
     "traceback": [
      "\u001b[1;31m---------------------------------------------------------------------------\u001b[0m",
      "\u001b[1;31mModuleNotFoundError\u001b[0m                       Traceback (most recent call last)",
      "\u001b[1;32m~\\AppData\\Local\\Temp/ipykernel_19396/3325127949.py\u001b[0m in \u001b[0;36m<module>\u001b[1;34m\u001b[0m\n\u001b[0;32m      1\u001b[0m \u001b[1;32mimport\u001b[0m \u001b[0mnumpy\u001b[0m \u001b[1;32mas\u001b[0m \u001b[0mnp\u001b[0m\u001b[1;33m\u001b[0m\u001b[1;33m\u001b[0m\u001b[0m\n\u001b[0;32m      2\u001b[0m \u001b[1;32mimport\u001b[0m \u001b[0mmatplotlib\u001b[0m\u001b[1;33m.\u001b[0m\u001b[0mpyplot\u001b[0m \u001b[1;32mas\u001b[0m \u001b[0mplt\u001b[0m\u001b[1;33m\u001b[0m\u001b[1;33m\u001b[0m\u001b[0m\n\u001b[1;32m----> 3\u001b[1;33m \u001b[1;32mfrom\u001b[0m \u001b[0mscipy\u001b[0m\u001b[1;33m.\u001b[0m\u001b[0mintegrate\u001b[0m \u001b[1;32mimport\u001b[0m \u001b[0modeint\u001b[0m\u001b[1;33m\u001b[0m\u001b[1;33m\u001b[0m\u001b[0m\n\u001b[0m",
      "\u001b[1;31mModuleNotFoundError\u001b[0m: No module named 'scipy'"
     ]
    }
   ],
   "source": [
    "import numpy as np\n",
    "import matplotlib.pyplot as plt\n",
    "from scipy.integrate import odeint"
   ]
  },
  {
   "cell_type": "code",
   "execution_count": 3,
   "metadata": {},
   "outputs": [],
   "source": [
    "def dSdt(S, t, g, m, b):\n",
    "    vx = S[0]\n",
    "    vy = S[1]\n",
    "    return [\n",
    "        -b/m * np.sqrt(vx**2 + vy**2) * vx, #dvx/dt\n",
    "        -g - b/m * np.sqrt(vx**2 + vy**2) * vy #dv/dt\n",
    "    ]"
   ]
  }
 ],
 "metadata": {
  "interpreter": {
   "hash": "eb374c553f34781faefcf96ebb808fe08549841cd6be7567d9aeb3d4ec0c9735"
  },
  "kernelspec": {
   "display_name": "Python 3.9.5 64-bit ('toto': conda)",
   "name": "python3"
  },
  "language_info": {
   "codemirror_mode": {
    "name": "ipython",
    "version": 3
   },
   "file_extension": ".py",
   "mimetype": "text/x-python",
   "name": "python",
   "nbconvert_exporter": "python",
   "pygments_lexer": "ipython3",
   "version": "3.9.5"
  },
  "orig_nbformat": 4
 },
 "nbformat": 4,
 "nbformat_minor": 2
}
