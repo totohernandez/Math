{
 "cells": [
  {
   "cell_type": "markdown",
   "metadata": {},
   "source": [
    "# Electric Field\n",
    "\n"
   ]
  },
  {
   "cell_type": "code",
   "execution_count": 7,
   "metadata": {},
   "outputs": [
    {
     "name": "stdout",
     "output_type": "stream",
     "text": [
      "E1 =  1047.3287879263935  N/C\n",
      "E2 =  -1047.1620860306487  N/C\n"
     ]
    }
   ],
   "source": [
    "q1 = 1e-9\n",
    "x1 = 0\n",
    "\n",
    "q2 = 5e-9\n",
    "x2 = 0.3\n",
    "\n",
    "# N*m^2 / C^2\n",
    "k = 9e9\n",
    "\n",
    "x = 0.0927\n",
    "\n",
    "r1 = x-x1\n",
    "r2 = x2-x\n",
    "\n",
    "E1 = (k*q1)/r1**2\n",
    "\n",
    "print(\"E1 = \", E1, \" N/C\")\n",
    "\n",
    "E2 = -(k*q2)/r2**2\n",
    "print(\"E2 = \", E2, \" N/C\")"
   ]
  },
  {
   "cell_type": "code",
   "execution_count": 8,
   "metadata": {},
   "outputs": [
    {
     "ename": "NameError",
     "evalue": "name 'graph' is not defined",
     "output_type": "error",
     "traceback": [
      "\u001b[1;31m---------------------------------------------------------------------------\u001b[0m",
      "\u001b[1;31mNameError\u001b[0m                                 Traceback (most recent call last)",
      "\u001b[1;32m~\\AppData\\Local\\Temp/ipykernel_9832/2347097901.py\u001b[0m in \u001b[0;36m<module>\u001b[1;34m\u001b[0m\n\u001b[0;32m      7\u001b[0m \u001b[0mr2\u001b[0m \u001b[1;33m=\u001b[0m \u001b[0mx2\u001b[0m\u001b[1;33m-\u001b[0m\u001b[0mx\u001b[0m\u001b[1;33m\u001b[0m\u001b[1;33m\u001b[0m\u001b[0m\n\u001b[0;32m      8\u001b[0m \u001b[1;33m\u001b[0m\u001b[0m\n\u001b[1;32m----> 9\u001b[1;33m \u001b[0mtgraph\u001b[0m \u001b[1;33m=\u001b[0m \u001b[0mgraph\u001b[0m\u001b[1;33m(\u001b[0m\u001b[0mxtitle\u001b[0m\u001b[1;33m=\u001b[0m\u001b[1;34m\"Position [m]\"\u001b[0m\u001b[1;33m,\u001b[0m \u001b[0mytittle\u001b[0m\u001b[1;33m=\u001b[0m\u001b[1;34m\"Enet [N/C]\"\u001b[0m\u001b[1;33m)\u001b[0m\u001b[1;33m\u001b[0m\u001b[1;33m\u001b[0m\u001b[0m\n\u001b[0m\u001b[0;32m     10\u001b[0m \u001b[0mf1\u001b[0m \u001b[1;33m=\u001b[0m \u001b[0mgcurve\u001b[0m\u001b[1;33m(\u001b[0m\u001b[0mcolor\u001b[0m \u001b[1;33m=\u001b[0m \u001b[0mcolor\u001b[0m\u001b[1;33m.\u001b[0m\u001b[0mblue\u001b[0m\u001b[1;33m)\u001b[0m\u001b[1;33m\u001b[0m\u001b[1;33m\u001b[0m\u001b[0m\n\u001b[0;32m     11\u001b[0m \u001b[1;33m\u001b[0m\u001b[0m\n",
      "\u001b[1;31mNameError\u001b[0m: name 'graph' is not defined"
     ]
    }
   ],
   "source": [
    "x1i = 0.05\n",
    "x2f = 0.295\n",
    "\n",
    "x = x1i\n",
    "dx = 0.01\n",
    "r1 = x-x1\n",
    "r2 = x2-x\n",
    "\n",
    "tgraph = graph(xtitle=\"Position [m]\", ytittle=\"Enet [N/C]\")\n",
    "f1 = gcurve(color = color.blue)\n",
    "\n",
    "while x < x2f:\n",
    "    r1 = x-x1\n",
    "    r2 = x2-x\n",
    "    E1 = (k*q1)/r1**2\n",
    "    E2 = -(k*q2)/r2**2\n",
    "    Enet = E1+E2\n",
    "\n",
    "    f1.plot(x, Enet)\n",
    "    x = x + dx\n"
   ]
  },
  {
   "cell_type": "code",
   "execution_count": 9,
   "metadata": {},
   "outputs": [],
   "source": [
    "q = 4e-9\n",
    "k = 9e9\n",
    "\n",
    "# rq = <-0.05, 0.0> m \n",
    "# Find E at <-0.05, 0.04, 0> m \n",
    "#create arrow\n",
    "Escale = 2e-6\n",
    "\n"
   ]
  }
 ],
 "metadata": {
  "interpreter": {
   "hash": "eb374c553f34781faefcf96ebb808fe08549841cd6be7567d9aeb3d4ec0c9735"
  },
  "kernelspec": {
   "display_name": "Python 3.9.5 64-bit ('toto': conda)",
   "name": "python3"
  },
  "language_info": {
   "codemirror_mode": {
    "name": "ipython",
    "version": 3
   },
   "file_extension": ".py",
   "mimetype": "text/x-python",
   "name": "python",
   "nbconvert_exporter": "python",
   "pygments_lexer": "ipython3",
   "version": "3.9.5"
  },
  "orig_nbformat": 4
 },
 "nbformat": 4,
 "nbformat_minor": 2
}
