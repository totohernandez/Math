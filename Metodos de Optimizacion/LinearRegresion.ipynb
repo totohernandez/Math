{
 "cells": [
  {
   "cell_type": "markdown",
   "metadata": {},
   "source": [
    "Linear Regresion\n",
    "\n",
    "$ y = m * x + b $\n",
    "\n",
    "Mean Squared Error\n",
    "\n",
    "$ E = \\frac{1}{n} * \\sum_{i=0}^{n} (y_i - (m * x_i + b))^2 $\n"
   ]
  },
  {
   "cell_type": "markdown",
   "metadata": {},
   "source": [
    "Minimize Mean Squared Error\n",
    "\n",
    "Partial derivative with respect to m\n",
    "\n",
    "$ \\frac{\\partial E}{\\partial m} = \\frac{1}{n} * \\sum_{i=0}^{n} 2 * (y_i - (m*x_i +b)) * (-x_i) $\n",
    "\n",
    "$ = - \\frac{2}{n} * \\sum_{1=0}^{n} x_i * (y_i - (m * x_i +b)) $\n",
    "\n",
    "\n",
    "\n",
    "Partial derivative with respect to b \n",
    "\n",
    "$ \\frac{\\partial E}{\\partial b} = - \\frac{2}{n} * \\sum_{i=0}{n} (y_i - (m * x_i + b)) $\n"
   ]
  },
  {
   "cell_type": "markdown",
   "metadata": {},
   "source": [
    "Optimization \n",
    "\n",
    "L = learning rate, how large are the steps we take to optimize. \n",
    "The lower the learning rate, the better the result. \n",
    "\n",
    "\n",
    "$\\frac{\\partial E}{\\partial m}, \\frac{\\partial E}{\\partial m}$ = direction of the steepest ascent. \n",
    "\n",
    "$ m = m - L * \\frac{\\partial E}{\\partial m} $\n",
    "\n",
    "$ b = b - L * \\frac{\\partial E}{\\partial m} $"
   ]
  },
  {
   "cell_type": "code",
   "execution_count": 21,
   "metadata": {},
   "outputs": [
    {
     "name": "stdout",
     "output_type": "stream",
     "text": [
      "    Time  Score\n",
      "0     10     47\n",
      "1      8     71\n",
      "2     10     17\n",
      "3      3     81\n",
      "4      6     17\n",
      "5     12     85\n",
      "6      1     73\n",
      "7      3     81\n",
      "8      8      8\n",
      "9      4     74\n",
      "10    14     10\n",
      "11     1     48\n",
      "12     5     85\n",
      "13     1     89\n",
      "14     2     43\n",
      "15    13     23\n",
      "16    15     56\n",
      "17    10     10\n",
      "18     4     21\n",
      "19    10     33\n",
      "20    11     30\n",
      "21    10     18\n",
      "22     2     44\n",
      "23     8      7\n",
      "24     3     24\n",
      "25     8     76\n",
      "26     7     84\n",
      "27     2     97\n",
      "28     3      3\n",
      "29    14     69\n",
      "30     0     89\n",
      "31    10     52\n",
      "32     0     13\n",
      "33    14     46\n",
      "34    12     67\n",
      "35    15     98\n",
      "36     7      3\n",
      "37    10     82\n",
      "38     9     83\n",
      "39    13     38\n",
      "40    13      4\n",
      "41     0     32\n",
      "42    10     93\n",
      "43    13     69\n",
      "44     3      3\n",
      "45    15     69\n",
      "46    11     45\n",
      "47     9     35\n",
      "48     0     17\n",
      "49     1     88\n"
     ]
    },
    {
     "data": {
      "image/png": "[encoded data removed]",
      "text/plain": [
       "<Figure size 432x288 with 1 Axes>"
      ]
     },
     "metadata": {
      "needs_background": "light"
     },
     "output_type": "display_data"
    },
    {
     "name": "stdout",
     "output_type": "stream",
     "text": [
      "Epoch: 0\n",
      "Epoch: 50\n",
      "3.6278341963771825 0.6350081147923357\n"
     ]
    },
    {
     "data": {
      "image/png": "[encoded data removed]",
      "text/plain": [
       "<Figure size 432x288 with 1 Axes>"
      ]
     },
     "metadata": {
      "needs_background": "light"
     },
     "output_type": "display_data"
    }
   ],
   "source": [
    "import pandas as pd\n",
    "import matplotlib.pyplot as plt\n",
    "\n",
    "data = pd.read_csv('data.csv')\n",
    "print(data)\n",
    "\n",
    "plt.scatter(data.Time, data.Score)\n",
    "plt.show()\n",
    "\n",
    "def loss_function(m, b, points):\n",
    "    total_error = 0\n",
    "    for i in range(len(points)):\n",
    "        x = points.iloc[i].studytime                \n",
    "        y = points.iloc[i].score\n",
    "        total_error += (y - (m*x +b))**2\n",
    "    total_error / float(len(points))\n",
    "\n",
    "def gradient_descent(m_now, b_now, points, L):\n",
    "    m_gradient = 0\n",
    "    b_gradient = 0\n",
    "    \n",
    "    n = len(points)\n",
    "    \n",
    "    for i in range(n):\n",
    "        x = points.iloc[i].Time\n",
    "        y = points.iloc[i].Score\n",
    "        \n",
    "        m_gradient += -(2/n)* x *(y - (m_now * x + b_now))\n",
    "        b_gradient += -(2/n) * (y - (m_now * x + b_now))\n",
    "        \n",
    "    m = m_now - m_gradient * L\n",
    "    b = b_now - b_gradient * L\n",
    "    return m, b\n",
    "\n",
    "m = 0\n",
    "b = 0\n",
    "L = 0.0001\n",
    "epochs = 100\n",
    "\n",
    "for i in range(epochs):\n",
    "    if i % 50 == 0:\n",
    "        print(f\"Epoch: {i}\")\n",
    "    m, b = gradient_descent(m, b, data, L)\n",
    "    \n",
    "print(m,b)\n",
    "\n",
    "plt.scatter(data.Time, data.Score, color=\"black\")\n",
    "plt.plot(list(range(0, 20)), [m * x + b for x in range(0,20)], color = \"red\")\n",
    "plt.show()\n"
   ]
  },
  {
   "cell_type": "code",
   "execution_count": null,
   "metadata": {},
   "outputs": [],
   "source": []
  },
  {
   "cell_type": "code",
   "execution_count": null,
   "metadata": {},
   "outputs": [],
   "source": []
  }
 ],
 "metadata": {
  "kernelspec": {
   "display_name": "Python 3",
   "language": "python",
   "name": "python3"
  },
  "language_info": {
   "codemirror_mode": {
    "name": "ipython",
    "version": 3
   },
   "file_extension": ".py",
   "mimetype": "text/x-python",
   "name": "python",
   "nbconvert_exporter": "python",
   "pygments_lexer": "ipython3",
   "version": "3.8.5"
  }
 },
 "nbformat": 4,
 "nbformat_minor": 4
}
